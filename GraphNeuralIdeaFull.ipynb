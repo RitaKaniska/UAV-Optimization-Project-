{
 "cells": [
  {
   "cell_type": "markdown",
   "id": "cb6d8eec",
   "metadata": {},
   "source": [
    "# IMPORT"
   ]
  },
  {
   "cell_type": "code",
   "execution_count": 254,
   "id": "31449957",
   "metadata": {},
   "outputs": [],
   "source": [
    "import os\n",
    "from pathlib import Path\n",
    "import numpy as np\n",
    "import pandas as pd\n",
    "import torch\n",
    "import torch.nn.functional as F\n",
    "from torch_geometric.data import Data, DataLoader\n",
    "from torch_geometric.nn import GCNConv\n",
    "from tqdm import tqdm\n",
    "from tqdm import trange, tqdm\n",
    "import matplotlib.pyplot as plt"
   ]
  },
  {
   "cell_type": "markdown",
   "id": "97fd7244",
   "metadata": {},
   "source": [
    "# DATASET AND TRANSFORMATION"
   ]
  },
  {
   "cell_type": "code",
   "execution_count": 255,
   "id": "87395ccc",
   "metadata": {},
   "outputs": [
    {
     "name": "stdout",
     "output_type": "stream",
     "text": [
      "UAVs: (20, 5)\n",
      "Clusters: (100, 5)\n",
      "Items: (1000, 3)\n"
     ]
    }
   ],
   "source": [
    "path = Path.cwd()\n",
    "\n",
    "\n",
    "uav_df = pd.read_csv(path / 'UAVs.csv')\n",
    "cluster_df = pd.read_csv(path / 'Clusters.csv')\n",
    "items_df = pd.read_csv(path / 'Items.csv')\n",
    "\n",
    "print('UAVs:', uav_df.shape)\n",
    "print('Clusters:', cluster_df.shape)\n",
    "print('Items:', items_df.shape)\n"
   ]
  },
  {
   "cell_type": "code",
   "execution_count": 256,
   "id": "b12d5b96",
   "metadata": {},
   "outputs": [
    {
     "name": "stdout",
     "output_type": "stream",
     "text": [
      "Node feature matrix x shape: torch.Size([120, 5])\n"
     ]
    }
   ],
   "source": [
    "\n",
    "uav_features = torch.tensor(uav_df[['UAV_x', 'UAV_y', 'UAV_z', 'UAV_max_weight']].values, dtype=torch.float)\n",
    "\n",
    "\n",
    "\n",
    "cluster_xy = cluster_df[['Cluster_x', 'Cluster_y']].values\n",
    "cluster_people = cluster_df['People_count'].values.reshape(-1, 1)\n",
    "cluster_item = cluster_df['Required_item_id'].values.reshape(-1, 1)\n",
    "cluster_zero = np.zeros((cluster_df.shape[0], 1))\n",
    "cluster_features = np.hstack([cluster_xy, cluster_zero, cluster_people, cluster_item])\n",
    "cluster_features = torch.tensor(cluster_features, dtype=torch.float)\n",
    "num_cluster = cluster_features.size(0)\n",
    "cluster_pad = torch.zeros((num_cluster, 1), dtype=cluster_features.dtype)\n",
    "cluster_padded = torch.cat([cluster_features, cluster_pad], dim=1)\n",
    "\n",
    "\n",
    "\n",
    "pad = torch.zeros((uav_features.size(0), 2), dtype=torch.float)\n",
    "uav_padded = torch.cat([uav_features, pad], dim=1)\n",
    "\n",
    "\n",
    "num_uav, uav_dim = uav_features.shape\n",
    "num_cluster, clu_dim = cluster_features.shape\n",
    "\n",
    "feature_dim = max(uav_dim, clu_dim)\n",
    "\n",
    "\n",
    "if uav_dim < feature_dim:\n",
    "    pad = torch.zeros((num_uav, feature_dim - uav_dim))\n",
    "    uav_padded = torch.cat([uav_features, pad], dim=1)\n",
    "else:\n",
    "    uav_padded = uav_features\n",
    "\n",
    "\n",
    "if clu_dim < feature_dim:\n",
    "    pad = torch.zeros((num_cluster, feature_dim - clu_dim))\n",
    "    cluster_padded = torch.cat([cluster_features, pad], dim=1)\n",
    "else:\n",
    "    cluster_padded = cluster_features\n",
    "\n",
    "x = torch.cat([uav_padded, cluster_features] , dim=0)\n",
    "print('Node feature matrix x shape:', x.shape)\n"
   ]
  },
  {
   "cell_type": "markdown",
   "id": "9b2c15f4",
   "metadata": {},
   "source": [
    "# GRAPH CONSTRUCTION"
   ]
  },
  {
   "cell_type": "code",
   "execution_count": 257,
   "id": "566e0c9a",
   "metadata": {},
   "outputs": [
    {
     "name": "stdout",
     "output_type": "stream",
     "text": [
      "Edge index shape: torch.Size([2, 2000])\n",
      "Edge attributes shape: torch.Size([2000, 4])\n"
     ]
    }
   ],
   "source": [
    "num_uav     = uav_features.size(0)\n",
    "num_cluster = cluster_features.size(0)\n",
    "velocity    = 15.0  # m/s\n",
    "\n",
    "edges      = []\n",
    "edge_attrs = []\n",
    "\n",
    "for u in range(num_uav):\n",
    "    pos_u = uav_features[u, :3]\n",
    "    for c in range(num_cluster):\n",
    "        pos_c = cluster_features[c, :3]\n",
    "\n",
    "   \n",
    "        distance = torch.norm(pos_u - pos_c)\n",
    "        time     = distance / velocity\n",
    "\n",
    "        people  = int(cluster_df.iloc[c]['People_count'])\n",
    "        item_id = int(cluster_df.iloc[c]['Required_item_id'])\n",
    "\n",
    "        item_weight     = float(\n",
    "            items_df.loc[items_df['Item_ID'] == item_id, 'Item_weight_per_person'].values[0]\n",
    "        )\n",
    "        item_importance = float(\n",
    "            items_df.loc[items_df['Item_ID'] == item_id, 'Item_importance_score'].values[0]\n",
    "        )\n",
    "\n",
    "      \n",
    "        total_weight = people * item_weight\n",
    "\n",
    "        \n",
    "        edge_feature = torch.tensor(\n",
    "            [distance, time, total_weight, item_importance],\n",
    "            dtype=torch.float\n",
    "        )\n",
    "\n",
    "        edges.append([u, num_uav + c])\n",
    "        edge_attrs.append(edge_feature)\n",
    "\n",
    "\n",
    "edge_index = torch.tensor(edges, dtype=torch.long).t().contiguous()\n",
    "edge_attr  = torch.stack(edge_attrs)\n",
    "\n",
    "print('Edge index shape:', edge_index.shape)      \n",
    "print('Edge attributes shape:', edge_attr.shape)  "
   ]
  },
  {
   "cell_type": "code",
   "execution_count": 258,
   "id": "d2306a5f",
   "metadata": {},
   "outputs": [
    {
     "name": "stdout",
     "output_type": "stream",
     "text": [
      "Data(x=[120, 5], edge_index=[2, 2000], edge_attr=[2000, 4], y=[20])\n"
     ]
    },
    {
     "name": "stderr",
     "output_type": "stream",
     "text": [
      "C:\\Users\\Admin\\AppData\\Local\\Packages\\PythonSoftwareFoundation.Python.3.12_qbz5n2kfra8p0\\LocalCache\\local-packages\\Python312\\site-packages\\torch_geometric\\deprecation.py:26: UserWarning: 'data.DataLoader' is deprecated, use 'loader.DataLoader' instead\n",
      "  warnings.warn(out)\n"
     ]
    }
   ],
   "source": [
    "y = torch.randint(0, num_cluster, (num_uav,), dtype=torch.long)\n",
    "\n",
    "\n",
    "data = Data(x=x, edge_index=edge_index, edge_attr=edge_attr, y=y)\n",
    "loader = DataLoader([data], batch_size=1)\n",
    "\n",
    "print(data)\n"
   ]
  },
  {
   "cell_type": "markdown",
   "id": "46de38ec",
   "metadata": {},
   "source": [
    "# MODEL"
   ]
  },
  {
   "cell_type": "code",
   "execution_count": 259,
   "id": "2a3a7cb0",
   "metadata": {},
   "outputs": [],
   "source": [
    "class UAVClusterGCN(torch.nn.Module):\n",
    "    def __init__(self, in_channels, hidden_channels, out_channels):\n",
    "        super().__init__()\n",
    "        self.conv1 = GCNConv(in_channels, hidden_channels)\n",
    "        self.conv2 = GCNConv(hidden_channels, hidden_channels)\n",
    "        self.lin = torch.nn.Linear(hidden_channels, out_channels)\n",
    "\n",
    "    def forward(self, x, edge_index, edge_attr=None):\n",
    "        x = F.sigmoid(self.conv1(x, edge_index))\n",
    "        x = F.sigmoid(self.conv2(x, edge_index))\n",
    "    \n",
    "        uav_emb = x[:num_uav]\n",
    "        return self.lin(uav_emb)\n",
    "\n",
    "model = UAVClusterGCN(in_channels=x.size(1), hidden_channels=64, out_channels=num_cluster)\n",
    "optimizer = torch.optim.Adam(model.parameters(), lr=1e-3 / 2)\n"
   ]
  },
  {
   "cell_type": "markdown",
   "id": "03c959b1",
   "metadata": {},
   "source": [
    "# TRAINING"
   ]
  },
  {
   "cell_type": "code",
   "execution_count": null,
   "id": "b781f34f",
   "metadata": {},
   "outputs": [],
   "source": []
  },
  {
   "cell_type": "code",
   "execution_count": 260,
   "id": "0dc5aeee",
   "metadata": {},
   "outputs": [
    {
     "name": "stderr",
     "output_type": "stream",
     "text": [
      "Training: 100%|███████████████████████████████████| 1000/1000 [00:06<00:00, 149.31it/s, Loss=0.0016]\n"
     ]
    }
   ],
   "source": [
    "\n",
    "model.train()\n",
    "from tqdm import trange, tqdm\n",
    "import time\n",
    "\n",
    "\n",
    "loader = list(range(20))\n",
    "loss_history = []\n",
    "\n",
    "num_epochs = 1000\n",
    "\n",
    "\n",
    "def train_step(batch):\n",
    "\n",
    "    time.sleep(0.05)\n",
    "  \n",
    "    return 0.1\n",
    "\n",
    "true_labels = torch.randint(0, num_cluster, (num_uav,), device='cpu')\n",
    "y_onehot = F.one_hot(true_labels, num_classes=num_cluster).float() \n",
    "\n",
    "\n",
    "with tqdm(range(1, num_epochs + 1), desc=\"Training\", ncols=100) as pbar:\n",
    "    for epoch in pbar:\n",
    "        model.train()\n",
    "        optimizer.zero_grad()\n",
    "        out = model(data.x, data.edge_index) \n",
    "        loss = F.mse_loss(out, y_onehot)\n",
    "        loss.backward()\n",
    "        optimizer.step()\n",
    "\n",
    "        if epoch > 0 : loss_history.append(loss.item())\n",
    "\n",
    "        \n",
    "        pbar.set_postfix({\"Loss\": f\"{loss.item():.4f}\"})\n"
   ]
  },
  {
   "cell_type": "markdown",
   "id": "26ff676b",
   "metadata": {},
   "source": [
    "# LOSS AND METRICS"
   ]
  },
  {
   "cell_type": "code",
   "execution_count": 261,
   "id": "8682703f",
   "metadata": {},
   "outputs": [
    {
     "data": {
      "image/png": "[encoded data removed]",
      "text/plain": [
       "<Figure size 640x480 with 1 Axes>"
      ]
     },
     "metadata": {},
     "output_type": "display_data"
    }
   ],
   "source": [
    "epochs = list(range(1, len(loss_history) + 1))\n",
    "\n",
    "plt.figure()\n",
    "plt.plot(epochs, loss_history)\n",
    "plt.xlabel('Epoch')\n",
    "plt.ylabel('Training Loss')\n",
    "plt.title('Loss Curve')\n",
    "plt.show()"
   ]
  }
 ],
 "metadata": {
  "kernelspec": {
   "display_name": "Python 3",
   "language": "python",
   "name": "python3"
  },
  "language_info": {
   "codemirror_mode": {
    "name": "ipython",
    "version": 3
   },
   "file_extension": ".py",
   "mimetype": "text/x-python",
   "name": "python",
   "nbconvert_exporter": "python",
   "pygments_lexer": "ipython3",
   "version": "3.12.10"
  }
 },
 "nbformat": 4,
 "nbformat_minor": 5
}
